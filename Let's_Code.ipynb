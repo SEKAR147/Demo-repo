{
  "cells": [
    {
      "cell_type": "markdown",
      "metadata": {
        "id": "view-in-github",
        "colab_type": "text"
      },
      "source": [
        "<a href=\"https://colab.research.google.com/github/SEKAR147/Demo-repo/blob/main/Let's_Code.ipynb\" target=\"_parent\"><img src=\"https://colab.research.google.com/assets/colab-badge.svg\" alt=\"Open In Colab\"/></a>"
      ]
    },
    {
      "cell_type": "markdown",
      "metadata": {
        "id": "zW-sGXmF_kA6"
      },
      "source": [
        "#Introduction to Tensors\n",
        "\n",
        "---\n",
        "Creating a Tensor\n",
        "\n"
      ]
    },
    {
      "cell_type": "code",
      "execution_count": null,
      "metadata": {
        "colab": {
          "base_uri": "https://localhost:8080/"
        },
        "id": "s5ZByhnr-6Aq",
        "outputId": "d7d27022-4b0b-4c6b-8d82-322cb26cec3e"
      },
      "outputs": [
        {
          "output_type": "stream",
          "name": "stdout",
          "text": [
            "2.4.1+cu121\n"
          ]
        }
      ],
      "source": [
        "import torch\n",
        "import pandas as pd\n",
        "import numpy as np\n",
        "import matplotlib.pyplot as plt\n",
        "print(torch.__version__)"
      ]
    },
    {
      "cell_type": "markdown",
      "source": [
        "### Introduction to tensors\n",
        "Creating tensors:\n"
      ],
      "metadata": {
        "id": "_WvA7hYxOYBg"
      }
    },
    {
      "cell_type": "code",
      "execution_count": null,
      "metadata": {
        "colab": {
          "base_uri": "https://localhost:8080/"
        },
        "id": "pAONvvUrAZYl",
        "outputId": "9e9ac8e4-68e2-474f-c331-cec7877db2a4"
      },
      "outputs": [
        {
          "output_type": "execute_result",
          "data": {
            "text/plain": [
              "tensor(8)"
            ]
          },
          "metadata": {},
          "execution_count": 9
        }
      ],
      "source": [
        "# Scaler\n",
        "scaler = torch.tensor(8)\n",
        "scaler"
      ]
    },
    {
      "cell_type": "code",
      "execution_count": null,
      "metadata": {
        "colab": {
          "base_uri": "https://localhost:8080/"
        },
        "id": "dn8N6PEtAVt-",
        "outputId": "cf73e2f9-e23e-49e5-d371-1b58a39abe94"
      },
      "outputs": [
        {
          "output_type": "execute_result",
          "data": {
            "text/plain": [
              "0"
            ]
          },
          "metadata": {},
          "execution_count": 10
        }
      ],
      "source": [
        "scaler.ndim"
      ]
    },
    {
      "cell_type": "code",
      "execution_count": null,
      "metadata": {
        "colab": {
          "base_uri": "https://localhost:8080/"
        },
        "id": "AflshrY_Bi-m",
        "outputId": "134ed745-7972-4fe6-8f92-31682ff4e4d5"
      },
      "outputs": [
        {
          "output_type": "execute_result",
          "data": {
            "text/plain": [
              "8"
            ]
          },
          "metadata": {},
          "execution_count": 77
        }
      ],
      "source": [
        "#get tensor back as python int\n",
        "scaler.item()"
      ]
    },
    {
      "cell_type": "code",
      "execution_count": null,
      "metadata": {
        "colab": {
          "base_uri": "https://localhost:8080/"
        },
        "id": "icZGlzRTBuPE",
        "outputId": "716d0879-e146-487c-f41c-0eb07cfc1375"
      },
      "outputs": [
        {
          "output_type": "execute_result",
          "data": {
            "text/plain": [
              "tensor([9, 9])"
            ]
          },
          "metadata": {},
          "execution_count": 11
        }
      ],
      "source": [
        "#Vector\n",
        "Vec = torch.tensor([9,9])\n",
        "Vec"
      ]
    },
    {
      "cell_type": "code",
      "execution_count": null,
      "metadata": {
        "id": "gY_dw0k9CGNT",
        "colab": {
          "base_uri": "https://localhost:8080/"
        },
        "outputId": "e18b7b4c-8f21-430e-a498-7e53b4394580"
      },
      "outputs": [
        {
          "output_type": "execute_result",
          "data": {
            "text/plain": [
              "1"
            ]
          },
          "metadata": {},
          "execution_count": 12
        }
      ],
      "source": [
        "Vec.ndim"
      ]
    },
    {
      "cell_type": "code",
      "source": [
        "Vec.shape"
      ],
      "metadata": {
        "colab": {
          "base_uri": "https://localhost:8080/"
        },
        "id": "dqRzJ7BmTTOv",
        "outputId": "466e2cc4-74cb-4875-b214-88e1e1b9ecd9"
      },
      "execution_count": null,
      "outputs": [
        {
          "output_type": "execute_result",
          "data": {
            "text/plain": [
              "torch.Size([2])"
            ]
          },
          "metadata": {},
          "execution_count": 13
        }
      ]
    },
    {
      "cell_type": "code",
      "source": [
        "# Matrix\n",
        "mat = torch.tensor([[2,3],\n",
        "                    [4,6]])\n",
        "mat"
      ],
      "metadata": {
        "colab": {
          "base_uri": "https://localhost:8080/"
        },
        "id": "NOi0N_3FTdi4",
        "outputId": "2935ce12-178a-48ea-afb5-0f555b628dc4"
      },
      "execution_count": null,
      "outputs": [
        {
          "output_type": "execute_result",
          "data": {
            "text/plain": [
              "tensor([[2, 3],\n",
              "        [4, 6]])"
            ]
          },
          "metadata": {},
          "execution_count": 14
        }
      ]
    },
    {
      "cell_type": "code",
      "source": [
        "mat.ndim"
      ],
      "metadata": {
        "colab": {
          "base_uri": "https://localhost:8080/"
        },
        "id": "G-qxLAsRUH4z",
        "outputId": "1f0d3587-2d47-43e2-817a-cf583b6c84ac"
      },
      "execution_count": null,
      "outputs": [
        {
          "output_type": "execute_result",
          "data": {
            "text/plain": [
              "2"
            ]
          },
          "metadata": {},
          "execution_count": 15
        }
      ]
    },
    {
      "cell_type": "code",
      "source": [
        "mat[1]"
      ],
      "metadata": {
        "colab": {
          "base_uri": "https://localhost:8080/"
        },
        "id": "6GSsJGbaUY6f",
        "outputId": "ead825a3-e07a-4808-c548-1a2f65ed59b7"
      },
      "execution_count": null,
      "outputs": [
        {
          "output_type": "execute_result",
          "data": {
            "text/plain": [
              "tensor([4, 6])"
            ]
          },
          "metadata": {},
          "execution_count": 16
        }
      ]
    },
    {
      "cell_type": "code",
      "source": [
        "mat.shape"
      ],
      "metadata": {
        "colab": {
          "base_uri": "https://localhost:8080/"
        },
        "id": "dmYBbcIHUb7l",
        "outputId": "1b7cf8c3-6e6f-43a0-d934-0f531625c9fb"
      },
      "execution_count": null,
      "outputs": [
        {
          "output_type": "execute_result",
          "data": {
            "text/plain": [
              "torch.Size([2, 2])"
            ]
          },
          "metadata": {},
          "execution_count": 17
        }
      ]
    },
    {
      "cell_type": "code",
      "source": [
        " #TENSORS\n",
        "TENSOR = torch.tensor([[2,3,9],\n",
        "                       [2,7,0],\n",
        "                       [4,6,9]])\n",
        "\n",
        "TENSOR"
      ],
      "metadata": {
        "colab": {
          "base_uri": "https://localhost:8080/"
        },
        "id": "V_D2tjy8UhQZ",
        "outputId": "5099037e-45cf-4275-ca9b-823c90e72883"
      },
      "execution_count": null,
      "outputs": [
        {
          "output_type": "execute_result",
          "data": {
            "text/plain": [
              "tensor([[2, 3, 9],\n",
              "        [2, 7, 0],\n",
              "        [4, 6, 9]])"
            ]
          },
          "metadata": {},
          "execution_count": 18
        }
      ]
    },
    {
      "cell_type": "code",
      "source": [
        "TENSOR.ndim"
      ],
      "metadata": {
        "colab": {
          "base_uri": "https://localhost:8080/"
        },
        "id": "py5BbZpTV6Gk",
        "outputId": "e2445c37-a355-492d-a6fb-a85840ab4d82"
      },
      "execution_count": null,
      "outputs": [
        {
          "output_type": "execute_result",
          "data": {
            "text/plain": [
              "2"
            ]
          },
          "metadata": {},
          "execution_count": 20
        }
      ]
    },
    {
      "cell_type": "code",
      "source": [
        "TENSOR.shape"
      ],
      "metadata": {
        "colab": {
          "base_uri": "https://localhost:8080/"
        },
        "id": "yRLSizL1Xrs8",
        "outputId": "5d7ba525-bd66-488b-d0bf-25926ed3a3fc"
      },
      "execution_count": null,
      "outputs": [
        {
          "output_type": "execute_result",
          "data": {
            "text/plain": [
              "torch.Size([3, 3])"
            ]
          },
          "metadata": {},
          "execution_count": 21
        }
      ]
    },
    {
      "cell_type": "code",
      "source": [
        "ten = torch.tensor([[[1.,2,3],\n",
        "                    [2.,3,4],\n",
        "                    [4,5,6]]])\n",
        "ten"
      ],
      "metadata": {
        "id": "GrieAI38Xuw0",
        "colab": {
          "base_uri": "https://localhost:8080/"
        },
        "outputId": "81cdece6-2e90-413a-95d0-e5969b6426bc"
      },
      "execution_count": null,
      "outputs": [
        {
          "output_type": "execute_result",
          "data": {
            "text/plain": [
              "tensor([[[1., 2., 3.],\n",
              "         [2., 3., 4.],\n",
              "         [4., 5., 6.]]])"
            ]
          },
          "metadata": {},
          "execution_count": 22
        }
      ]
    },
    {
      "cell_type": "markdown",
      "source": [
        "# Random Tensors\n",
        "\n",
        "# Why random tensors?\n",
        "\n",
        "random tensors are important the way many neural networks learn is that they start wit tensors full of random numbers and then adjust those random numbers to better represent the data\n",
        "\n",
        " `Start with random numbers -> look at data -> update random numbers -> look at data-> Update random numbers`\n"
      ],
      "metadata": {
        "id": "sRDUwtOmIrsv"
      }
    },
    {
      "cell_type": "code",
      "source": [
        "# create a random tensors of size(3,4)\n",
        "\n",
        "random_ten = torch.rand(2,3,4)\n",
        "random_ten"
      ],
      "metadata": {
        "colab": {
          "base_uri": "https://localhost:8080/"
        },
        "id": "xehaWFJiIBf3",
        "outputId": "726f7379-b737-45ff-c72f-7c4ea3ae996f"
      },
      "execution_count": null,
      "outputs": [
        {
          "output_type": "execute_result",
          "data": {
            "text/plain": [
              "tensor([[[0.1179, 0.4311, 0.7872, 0.6384],\n",
              "         [0.6804, 0.8284, 0.3375, 0.8740],\n",
              "         [0.3504, 0.3911, 0.5798, 0.3860]],\n",
              "\n",
              "        [[0.0909, 0.5266, 0.7761, 0.2742],\n",
              "         [0.7740, 0.6713, 0.4588, 0.8799],\n",
              "         [0.1916, 0.0577, 0.2925, 0.5534]]])"
            ]
          },
          "metadata": {},
          "execution_count": 30
        }
      ]
    },
    {
      "cell_type": "code",
      "source": [
        "random_ten.shape"
      ],
      "metadata": {
        "colab": {
          "base_uri": "https://localhost:8080/"
        },
        "id": "om_Q4jczxdqa",
        "outputId": "f1ba4f96-425c-4c3f-a00f-116790c9c738"
      },
      "execution_count": null,
      "outputs": [
        {
          "output_type": "execute_result",
          "data": {
            "text/plain": [
              "torch.Size([2, 3, 4])"
            ]
          },
          "metadata": {},
          "execution_count": 31
        }
      ]
    },
    {
      "cell_type": "code",
      "source": [
        "\n",
        "random_ten.ndim"
      ],
      "metadata": {
        "colab": {
          "base_uri": "https://localhost:8080/"
        },
        "id": "1eK0javkKYQP",
        "outputId": "50a13cb4-3bbc-4d2c-abdb-48104e178d1b"
      },
      "execution_count": null,
      "outputs": [
        {
          "output_type": "execute_result",
          "data": {
            "text/plain": [
              "3"
            ]
          },
          "metadata": {},
          "execution_count": 32
        }
      ]
    },
    {
      "cell_type": "code",
      "source": [
        "# create a random tensors with similar shape to an image tensor\n",
        "ran_image_size_ten = torch.rand((43,34,3)) # height ,width,colour channel\n",
        "ran_image_size_ten.shape ,ran_image_size_ten.ndim"
      ],
      "metadata": {
        "colab": {
          "base_uri": "https://localhost:8080/"
        },
        "id": "fYT0Yb2SKt9d",
        "outputId": "2d2780f4-995e-4dac-ce83-5759edb899e4"
      },
      "execution_count": null,
      "outputs": [
        {
          "output_type": "execute_result",
          "data": {
            "text/plain": [
              "(torch.Size([43, 34, 3]), 3)"
            ]
          },
          "metadata": {},
          "execution_count": 91
        }
      ]
    },
    {
      "cell_type": "code",
      "source": [
        "ran_image_size_ten.ndim"
      ],
      "metadata": {
        "colab": {
          "base_uri": "https://localhost:8080/"
        },
        "id": "DR5K-McbMWsy",
        "outputId": "f5d510f1-a8fa-4ea2-fe7a-1fe1b4481137"
      },
      "execution_count": null,
      "outputs": [
        {
          "output_type": "execute_result",
          "data": {
            "text/plain": [
              "3"
            ]
          },
          "metadata": {},
          "execution_count": 92
        }
      ]
    },
    {
      "cell_type": "markdown",
      "source": [
        "### Zeros and Ones"
      ],
      "metadata": {
        "id": "GZiCvCnPNG6e"
      }
    },
    {
      "cell_type": "code",
      "source": [
        "zero = torch.zeros(size=(3,4))\n",
        "zero"
      ],
      "metadata": {
        "colab": {
          "base_uri": "https://localhost:8080/"
        },
        "id": "lwi9ZjK1MlRm",
        "outputId": "cb048bc7-7d4a-4fae-bc5f-4334021d2eb9"
      },
      "execution_count": null,
      "outputs": [
        {
          "output_type": "execute_result",
          "data": {
            "text/plain": [
              "tensor([[0., 0., 0., 0.],\n",
              "        [0., 0., 0., 0.],\n",
              "        [0., 0., 0., 0.]])"
            ]
          },
          "metadata": {},
          "execution_count": 93
        }
      ]
    },
    {
      "cell_type": "code",
      "source": [
        "one = torch.ones(size=(4,5))\n",
        "one"
      ],
      "metadata": {
        "colab": {
          "base_uri": "https://localhost:8080/"
        },
        "id": "FFsTtaPaNU4G",
        "outputId": "026d5bc5-6eb8-4c87-d2cb-53e0077c07b7"
      },
      "execution_count": null,
      "outputs": [
        {
          "output_type": "execute_result",
          "data": {
            "text/plain": [
              "tensor([[1., 1., 1., 1., 1.],\n",
              "        [1., 1., 1., 1., 1.],\n",
              "        [1., 1., 1., 1., 1.],\n",
              "        [1., 1., 1., 1., 1.]])"
            ]
          },
          "metadata": {},
          "execution_count": 94
        }
      ]
    },
    {
      "cell_type": "code",
      "source": [
        "one.dtype"
      ],
      "metadata": {
        "colab": {
          "base_uri": "https://localhost:8080/"
        },
        "id": "cR1xkBNGN0Xm",
        "outputId": "c14398e5-df82-4b5b-dc98-ff4257ad4a7d"
      },
      "execution_count": null,
      "outputs": [
        {
          "output_type": "execute_result",
          "data": {
            "text/plain": [
              "torch.float32"
            ]
          },
          "metadata": {},
          "execution_count": 95
        }
      ]
    },
    {
      "cell_type": "markdown",
      "source": [
        "Creating a range of tensors and tensors -like\n"
      ],
      "metadata": {
        "id": "NRGX0MxGONJq"
      }
    },
    {
      "cell_type": "code",
      "source": [
        "torch.arange(1,10)"
      ],
      "metadata": {
        "colab": {
          "base_uri": "https://localhost:8080/"
        },
        "id": "0hcqHSXINjtr",
        "outputId": "da54ea33-0440-4a1b-89ef-3b0003037733"
      },
      "execution_count": null,
      "outputs": [
        {
          "output_type": "execute_result",
          "data": {
            "text/plain": [
              "tensor([1, 2, 3, 4, 5, 6, 7, 8, 9])"
            ]
          },
          "metadata": {},
          "execution_count": 96
        }
      ]
    },
    {
      "cell_type": "code",
      "source": [
        "torch.__version__"
      ],
      "metadata": {
        "colab": {
          "base_uri": "https://localhost:8080/",
          "height": 35
        },
        "id": "ACLMcBNwOaNo",
        "outputId": "bfc128e5-49e0-4837-8fa3-4e82e15ff1e3"
      },
      "execution_count": null,
      "outputs": [
        {
          "output_type": "execute_result",
          "data": {
            "text/plain": [
              "'2.4.0+cu121'"
            ],
            "application/vnd.google.colaboratory.intrinsic+json": {
              "type": "string"
            }
          },
          "metadata": {},
          "execution_count": 97
        }
      ]
    },
    {
      "cell_type": "code",
      "source": [
        "range_ten = torch.arange(start=0, end=100, step = 25)\n",
        "range_ten"
      ],
      "metadata": {
        "colab": {
          "base_uri": "https://localhost:8080/"
        },
        "id": "e9PFokvuOhfX",
        "outputId": "f067675c-1491-4a96-f0cb-ba3a5201f293"
      },
      "execution_count": null,
      "outputs": [
        {
          "output_type": "execute_result",
          "data": {
            "text/plain": [
              "tensor([ 0, 25, 50, 75])"
            ]
          },
          "metadata": {},
          "execution_count": 98
        }
      ]
    },
    {
      "cell_type": "code",
      "source": [
        "### creating tensors like\n",
        "ten_zeros = torch.zeros_like(input=range_ten)\n",
        "ten_zeros"
      ],
      "metadata": {
        "colab": {
          "base_uri": "https://localhost:8080/"
        },
        "id": "3lIUtYs_PGDT",
        "outputId": "122ecc66-5513-4620-9918-134782702dfa"
      },
      "execution_count": null,
      "outputs": [
        {
          "output_type": "execute_result",
          "data": {
            "text/plain": [
              "tensor([0, 0, 0, 0])"
            ]
          },
          "metadata": {},
          "execution_count": 99
        }
      ]
    },
    {
      "cell_type": "markdown",
      "source": [
        "Tensors Datatypes\n"
      ],
      "metadata": {
        "id": "2hqrWOPnTuhM"
      }
    },
    {
      "cell_type": "code",
      "source": [
        "#float 32 tensor\n",
        "float_32_tensor = torch.tensor([3.4 , 4.4 , 5.0],\n",
        "                                dtype=torch.float16,\n",
        "                                device=None,\n",
        "                               requires_grad=False)\n",
        "float_32_tensor.dtype"
      ],
      "metadata": {
        "id": "uQlRM6OGP-zT",
        "colab": {
          "base_uri": "https://localhost:8080/"
        },
        "outputId": "2712d901-b4e3-41b8-8c80-83c5e4416c7e"
      },
      "execution_count": null,
      "outputs": [
        {
          "output_type": "execute_result",
          "data": {
            "text/plain": [
              "torch.float16"
            ]
          },
          "metadata": {},
          "execution_count": 100
        }
      ]
    },
    {
      "cell_type": "code",
      "source": [
        "#float 32 tensor\n",
        "float_32_tensor = torch.tensor([3.4 , 4.4 , 5.0],\n",
        "                                dtype=torch.float16,\n",
        "                                device=None,\n",
        "                               requires_grad=False)\n",
        "float_32_tensor"
      ],
      "metadata": {
        "colab": {
          "base_uri": "https://localhost:8080/"
        },
        "id": "AIg4_sr-13xR",
        "outputId": "e79b29a7-c0cb-4cc6-e76e-d612069444cd"
      },
      "execution_count": null,
      "outputs": [
        {
          "output_type": "execute_result",
          "data": {
            "text/plain": [
              "tensor([3.4004, 4.3984, 5.0000], dtype=torch.float16)"
            ]
          },
          "metadata": {},
          "execution_count": 101
        }
      ]
    },
    {
      "cell_type": "code",
      "source": [
        "  float_32_tensor.dtype"
      ],
      "metadata": {
        "colab": {
          "base_uri": "https://localhost:8080/"
        },
        "id": "X2UgE7sbDmVh",
        "outputId": "a32a199b-d9ea-47d4-8858-a072bfbba8e0"
      },
      "execution_count": null,
      "outputs": [
        {
          "output_type": "execute_result",
          "data": {
            "text/plain": [
              "torch.float16"
            ]
          },
          "metadata": {},
          "execution_count": 102
        }
      ]
    },
    {
      "cell_type": "code",
      "source": [
        "float_16_tensor = float_32_tensor.type(torch.float16)\n",
        "float_16_tensor"
      ],
      "metadata": {
        "colab": {
          "base_uri": "https://localhost:8080/"
        },
        "id": "zL-bPj95DmSW",
        "outputId": "ea1eb3f5-7516-49f1-c8e0-820b8e4bd62e"
      },
      "execution_count": null,
      "outputs": [
        {
          "output_type": "execute_result",
          "data": {
            "text/plain": [
              "tensor([3.4004, 4.3984, 5.0000], dtype=torch.float16)"
            ]
          },
          "metadata": {},
          "execution_count": 103
        }
      ]
    },
    {
      "cell_type": "code",
      "source": [
        "float_32_tensor * float_16_tensor"
      ],
      "metadata": {
        "colab": {
          "base_uri": "https://localhost:8080/"
        },
        "id": "HAREiw0pDmQh",
        "outputId": "b5d46487-cfb6-4bc1-c387-11b790e09dd5"
      },
      "execution_count": null,
      "outputs": [
        {
          "output_type": "execute_result",
          "data": {
            "text/plain": [
              "tensor([11.5625, 19.3438, 25.0000], dtype=torch.float16)"
            ]
          },
          "metadata": {},
          "execution_count": 104
        }
      ]
    },
    {
      "cell_type": "code",
      "source": [
        "float_32_tensor ** float_16_tensor"
      ],
      "metadata": {
        "colab": {
          "base_uri": "https://localhost:8080/"
        },
        "id": "Znqdt1S6DmOx",
        "outputId": "507e5430-8c91-4024-fb70-2fc69fc940ae"
      },
      "execution_count": null,
      "outputs": [
        {
          "output_type": "execute_result",
          "data": {
            "text/plain": [
              "tensor([  64.1875,  675.5000, 3124.0000], dtype=torch.float16)"
            ]
          },
          "metadata": {},
          "execution_count": 105
        }
      ]
    },
    {
      "cell_type": "code",
      "source": [
        "int_32_tensor = torch.tensor([3,4,5],dtype=torch.int64)\n",
        "int_32_tensor"
      ],
      "metadata": {
        "colab": {
          "base_uri": "https://localhost:8080/"
        },
        "id": "PcLXs7YTkReI",
        "outputId": "a24839fc-469f-4a6f-b48c-3ab1a1363bf2"
      },
      "execution_count": null,
      "outputs": [
        {
          "output_type": "execute_result",
          "data": {
            "text/plain": [
              "tensor([3, 4, 5])"
            ]
          },
          "metadata": {},
          "execution_count": 106
        }
      ]
    },
    {
      "cell_type": "code",
      "source": [],
      "metadata": {
        "id": "E2a8TBRxn0Ze"
      },
      "execution_count": null,
      "outputs": []
    },
    {
      "cell_type": "code",
      "source": [
        "float_32_tensor * int_32_tensor"
      ],
      "metadata": {
        "colab": {
          "base_uri": "https://localhost:8080/"
        },
        "id": "CQ1Z25bdkRam",
        "outputId": "6a5ba3a4-5ebf-47b9-e37f-78a4ec8514d7"
      },
      "execution_count": null,
      "outputs": [
        {
          "output_type": "execute_result",
          "data": {
            "text/plain": [
              "tensor([10.2031, 17.5938, 25.0000], dtype=torch.float16)"
            ]
          },
          "metadata": {},
          "execution_count": 107
        }
      ]
    },
    {
      "cell_type": "markdown",
      "source": [
        "### Manipulating Tensors(Tensor Operation)\n",
        "1. Addition\n",
        "2. Subtraction\n",
        "3. Multiplication (Elememt wise)\n",
        "4. division\n",
        "5. Matrix Multiplication\n",
        "\n"
      ],
      "metadata": {
        "id": "_4pVmS2EN0IR"
      }
    },
    {
      "cell_type": "code",
      "source": [
        "# create a tensor and add 10 to it\n",
        "ten= torch.tensor([1,2,3])\n",
        "ten+10"
      ],
      "metadata": {
        "colab": {
          "base_uri": "https://localhost:8080/"
        },
        "id": "5gxi9VkV3Hv2",
        "outputId": "a2483767-6b18-4b66-e729-4527a5cf5f95"
      },
      "execution_count": null,
      "outputs": [
        {
          "output_type": "execute_result",
          "data": {
            "text/plain": [
              "tensor([11, 12, 13])"
            ]
          },
          "metadata": {},
          "execution_count": 108
        }
      ]
    },
    {
      "cell_type": "code",
      "source": [
        "torch.arange(1,10)\n",
        "torch.arange"
      ],
      "metadata": {
        "colab": {
          "base_uri": "https://localhost:8080/"
        },
        "id": "AR18zwRXoRvB",
        "outputId": "f7e64fb8-a9f9-44ae-aa0a-76cac2e516af"
      },
      "execution_count": null,
      "outputs": [
        {
          "output_type": "execute_result",
          "data": {
            "text/plain": [
              "<function torch._VariableFunctionsClass.arange>"
            ]
          },
          "metadata": {},
          "execution_count": 109
        }
      ]
    },
    {
      "cell_type": "code",
      "source": [
        "ten = torch.tensor([1,2,3])\n",
        "ten-10"
      ],
      "metadata": {
        "colab": {
          "base_uri": "https://localhost:8080/"
        },
        "id": "I1fiY-bV3Hsl",
        "outputId": "37394d2e-e428-48fd-eb68-e32457027090"
      },
      "execution_count": null,
      "outputs": [
        {
          "output_type": "execute_result",
          "data": {
            "text/plain": [
              "tensor([-9, -8, -7])"
            ]
          },
          "metadata": {},
          "execution_count": 110
        }
      ]
    },
    {
      "cell_type": "code",
      "source": [
        "ten = torch.tensor([1,2,3])\n",
        "ten - 10"
      ],
      "metadata": {
        "colab": {
          "base_uri": "https://localhost:8080/"
        },
        "id": "OjxpplRMDHaZ",
        "outputId": "92079857-70cf-41ff-8a63-2ad664b2061f"
      },
      "execution_count": null,
      "outputs": [
        {
          "output_type": "execute_result",
          "data": {
            "text/plain": [
              "tensor([-9, -8, -7])"
            ]
          },
          "metadata": {},
          "execution_count": 111
        }
      ]
    },
    {
      "cell_type": "code",
      "source": [
        "torch.tensor(10*10)"
      ],
      "metadata": {
        "colab": {
          "base_uri": "https://localhost:8080/"
        },
        "id": "6KPsyHbaox0O",
        "outputId": "20d6dcee-02c5-47f8-e71b-dd315df9ae7a"
      },
      "execution_count": null,
      "outputs": [
        {
          "output_type": "execute_result",
          "data": {
            "text/plain": [
              "tensor(100)"
            ]
          },
          "metadata": {},
          "execution_count": 112
        }
      ]
    },
    {
      "cell_type": "markdown",
      "source": [
        " ### Matrix Multiplication\n",
        " Two main ways of performing multiplication  in neural net and DL\n",
        " 1. Element wise Multiplication\n",
        " 2. Matrix multiplication(dot product)\n",
        "\n",
        " there are to main rules that performing matmul needs to satisfy\n",
        " 1. the **inner dimensions ** must match:\n",
        " 2. outer dimensions\n"
      ],
      "metadata": {
        "id": "ula2OgOLN5rn"
      }
    },
    {
      "cell_type": "code",
      "source": [
        "### Element wise  Multiplication\n",
        "print(ten,\"*\",ten )\n",
        "print(f\"Equals:{ten*ten}\")"
      ],
      "metadata": {
        "id": "_Nnuae1h3HkU",
        "colab": {
          "base_uri": "https://localhost:8080/"
        },
        "outputId": "41919832-6e96-4d43-f7a6-0ce2756472c4"
      },
      "execution_count": null,
      "outputs": [
        {
          "output_type": "stream",
          "name": "stdout",
          "text": [
            "tensor([1, 2, 3]) * tensor([1, 2, 3])\n",
            "Equals:tensor([1, 4, 9])\n"
          ]
        }
      ]
    },
    {
      "cell_type": "code",
      "source": [
        "### Matrix Multiplication\n",
        "torch.matmul(ten,ten)"
      ],
      "metadata": {
        "id": "h_bOXrD43Hhh",
        "colab": {
          "base_uri": "https://localhost:8080/"
        },
        "outputId": "1f43a2fb-72a9-4488-e073-fd7cfa912b14"
      },
      "execution_count": null,
      "outputs": [
        {
          "output_type": "execute_result",
          "data": {
            "text/plain": [
              "tensor(14)"
            ]
          },
          "metadata": {},
          "execution_count": 114
        }
      ]
    },
    {
      "cell_type": "code",
      "source": [
        "%%time\n",
        "value =0\n",
        "for i in range(len(ten)):\n",
        "  value += ten[i] * ten[i]\n",
        "print(value)"
      ],
      "metadata": {
        "id": "P41t7E1mDmDJ",
        "colab": {
          "base_uri": "https://localhost:8080/"
        },
        "outputId": "a48329bc-93c0-4cbb-afb9-132094f9b472"
      },
      "execution_count": null,
      "outputs": [
        {
          "output_type": "stream",
          "name": "stdout",
          "text": [
            "tensor(14)\n",
            "CPU times: user 1.67 ms, sys: 0 ns, total: 1.67 ms\n",
            "Wall time: 1.7 ms\n"
          ]
        }
      ]
    },
    {
      "cell_type": "code",
      "source": [
        " %%time\n",
        "torch.matmul(ten,ten)"
      ],
      "metadata": {
        "id": "N_9vuM0EDlYQ",
        "colab": {
          "base_uri": "https://localhost:8080/"
        },
        "outputId": "6e80bf4e-b042-4c09-c99b-f3e1771c67ad"
      },
      "execution_count": null,
      "outputs": [
        {
          "output_type": "stream",
          "name": "stdout",
          "text": [
            "CPU times: user 104 µs, sys: 0 ns, total: 104 µs\n",
            "Wall time: 109 µs\n"
          ]
        },
        {
          "output_type": "execute_result",
          "data": {
            "text/plain": [
              "tensor(14)"
            ]
          },
          "metadata": {},
          "execution_count": 116
        }
      ]
    },
    {
      "cell_type": "code",
      "source": [
        "torch.matmul(torch.rand(2,4)), torch.rand(2,3)"
      ],
      "metadata": {
        "colab": {
          "base_uri": "https://localhost:8080/",
          "height": 141
        },
        "id": "s24aVrjIkeRx",
        "outputId": "9106f0b0-c5ba-48fc-9963-c0fb5f212d9b"
      },
      "execution_count": null,
      "outputs": [
        {
          "output_type": "error",
          "ename": "TypeError",
          "evalue": "matmul() missing 1 required positional arguments: \"other\"",
          "traceback": [
            "\u001b[0;31m---------------------------------------------------------------------------\u001b[0m",
            "\u001b[0;31mTypeError\u001b[0m                                 Traceback (most recent call last)",
            "\u001b[0;32m<ipython-input-117-01505b353042>\u001b[0m in \u001b[0;36m<cell line: 1>\u001b[0;34m()\u001b[0m\n\u001b[0;32m----> 1\u001b[0;31m \u001b[0mtorch\u001b[0m\u001b[0;34m.\u001b[0m\u001b[0mmatmul\u001b[0m\u001b[0;34m(\u001b[0m\u001b[0mtorch\u001b[0m\u001b[0;34m.\u001b[0m\u001b[0mrand\u001b[0m\u001b[0;34m(\u001b[0m\u001b[0;36m2\u001b[0m\u001b[0;34m,\u001b[0m\u001b[0;36m4\u001b[0m\u001b[0;34m)\u001b[0m\u001b[0;34m)\u001b[0m\u001b[0;34m,\u001b[0m \u001b[0mtorch\u001b[0m\u001b[0;34m.\u001b[0m\u001b[0mrand\u001b[0m\u001b[0;34m(\u001b[0m\u001b[0;36m2\u001b[0m\u001b[0;34m,\u001b[0m\u001b[0;36m3\u001b[0m\u001b[0;34m)\u001b[0m\u001b[0;34m\u001b[0m\u001b[0;34m\u001b[0m\u001b[0m\n\u001b[0m",
            "\u001b[0;31mTypeError\u001b[0m: matmul() missing 1 required positional arguments: \"other\""
          ]
        }
      ]
    },
    {
      "cell_type": "code",
      "source": [],
      "metadata": {
        "id": "WiJQUyHhkd5L"
      },
      "execution_count": null,
      "outputs": []
    },
    {
      "cell_type": "markdown",
      "source": [
        "### One of the most errors in deep learning: Shape Errors\n",
        "\n"
      ],
      "metadata": {
        "id": "GgLMOCR7Mg1r"
      }
    },
    {
      "cell_type": "markdown",
      "source": [
        "To fix out tensor shape issues, we can manipulate the shape of one our tensors using"
      ],
      "metadata": {
        "id": "UP5QW3csETNt"
      }
    },
    {
      "cell_type": "code",
      "source": [
        "ten_a= torch.tesnor([[1,2],\n",
        "                     [3,4],\n",
        "                     [9,4],\n",
        "                     [2,5]])\n",
        "ten_b= torch.tesnor([[3,4],\n",
        "                     [4,5],\n",
        "                     [5,5]])\n",
        "torch.matmul(ten_a,ten_b)\n",
        "\n"
      ],
      "metadata": {
        "id": "x6WAtyOBDmFY"
      },
      "execution_count": null,
      "outputs": []
    },
    {
      "cell_type": "markdown",
      "source": [
        "to fix our tensor shape issues ,we cam manipulate the shape of one of our tensors using a transpose\n",
        "A transpose switches the axes or dimensions of given tensor"
      ],
      "metadata": {
        "id": "LUnuiusZPbVl"
      }
    },
    {
      "cell_type": "code",
      "source": [
        "ten_a.shape,ten_b.shape"
      ],
      "metadata": {
        "id": "b8WR2cvzBSRb"
      },
      "execution_count": null,
      "outputs": []
    },
    {
      "cell_type": "code",
      "source": [],
      "metadata": {
        "id": "TY09lDoczvRE"
      },
      "execution_count": null,
      "outputs": []
    },
    {
      "cell_type": "code",
      "source": [
        "ten_b,ten_b.shape"
      ],
      "metadata": {
        "id": "_ZdWzdYvNgX-"
      },
      "execution_count": null,
      "outputs": []
    },
    {
      "cell_type": "markdown",
      "source": [
        "To fix pur tensor shape issues, we can manipulate the shape of one of the our tensors using transpose\n",
        "\n",
        "A **Transpose** switches the axes or dimensions of given tensor"
      ],
      "metadata": {
        "id": "cBLw-2Y2hNyh"
      }
    },
    {
      "cell_type": "code",
      "source": [
        "ten_b.T,"
      ],
      "metadata": {
        "id": "SSC1sNNFQNQ5"
      },
      "execution_count": null,
      "outputs": []
    },
    {
      "cell_type": "code",
      "source": [
        "ten_b.T.shape"
      ],
      "metadata": {
        "id": "QJvN5CMUhz7A"
      },
      "execution_count": null,
      "outputs": []
    },
    {
      "cell_type": "code",
      "source": [
        "# The Matrix multiplication operations  works tensor tens_b is transposed\n",
        "torch.matmul(ten_a, ten_b.T), ten_b.T.shape"
      ],
      "metadata": {
        "id": "bOsbKtu3Ea1A"
      },
      "execution_count": null,
      "outputs": []
    },
    {
      "cell_type": "markdown",
      "source": [
        "### Finding the min,max,sum and etc (tensor aggrigation)"
      ],
      "metadata": {
        "id": "hCqCtWJiG58b"
      }
    },
    {
      "cell_type": "code",
      "source": [
        "x=torch.arange(0,100,10)\n",
        "x"
      ],
      "metadata": {
        "id": "8FmsoivnJ4m1",
        "colab": {
          "base_uri": "https://localhost:8080/"
        },
        "outputId": "0cfc289d-487d-459e-aa5e-1a380a541cfa"
      },
      "execution_count": null,
      "outputs": [
        {
          "output_type": "execute_result",
          "data": {
            "text/plain": [
              "tensor([ 0, 10, 20, 30, 40, 50, 60, 70, 80, 90])"
            ]
          },
          "metadata": {},
          "execution_count": 118
        }
      ]
    },
    {
      "cell_type": "code",
      "source": [
        "x.max()"
      ],
      "metadata": {
        "id": "CdYEPT_2J4pu",
        "colab": {
          "base_uri": "https://localhost:8080/"
        },
        "outputId": "dbbabdb9-3164-4fdc-c69f-bd4a45359d69"
      },
      "execution_count": null,
      "outputs": [
        {
          "output_type": "execute_result",
          "data": {
            "text/plain": [
              "tensor(90)"
            ]
          },
          "metadata": {},
          "execution_count": 119
        }
      ]
    },
    {
      "cell_type": "code",
      "source": [
        "x[0]"
      ],
      "metadata": {
        "id": "vUz7j3guJ4sZ",
        "colab": {
          "base_uri": "https://localhost:8080/"
        },
        "outputId": "5230316a-bb8b-44e8-a6f3-9a20b29e2508"
      },
      "execution_count": null,
      "outputs": [
        {
          "output_type": "execute_result",
          "data": {
            "text/plain": [
              "tensor(0)"
            ]
          },
          "metadata": {},
          "execution_count": 120
        }
      ]
    },
    {
      "cell_type": "code",
      "source": [
        "x.argmin()"
      ],
      "metadata": {
        "id": "Ptiap7AQlgS2",
        "colab": {
          "base_uri": "https://localhost:8080/"
        },
        "outputId": "2e95c818-cc25-47b4-ccdd-fe1ab9960aa1"
      },
      "execution_count": null,
      "outputs": [
        {
          "output_type": "execute_result",
          "data": {
            "text/plain": [
              "tensor(0)"
            ]
          },
          "metadata": {},
          "execution_count": 121
        }
      ]
    },
    {
      "cell_type": "code",
      "source": [
        "x[5]"
      ],
      "metadata": {
        "id": "aQL6kEinllOA",
        "colab": {
          "base_uri": "https://localhost:8080/"
        },
        "outputId": "a26ce8e5-1630-48a1-e428-3ea4b9e51d56"
      },
      "execution_count": null,
      "outputs": [
        {
          "output_type": "execute_result",
          "data": {
            "text/plain": [
              "tensor(50)"
            ]
          },
          "metadata": {},
          "execution_count": 122
        }
      ]
    },
    {
      "cell_type": "code",
      "source": [
        "x.argmax()"
      ],
      "metadata": {
        "id": "jLDxLXguJ4u7",
        "colab": {
          "base_uri": "https://localhost:8080/"
        },
        "outputId": "0f492bb7-e1a1-4448-be1a-2ce4fdd17acb"
      },
      "execution_count": null,
      "outputs": [
        {
          "output_type": "execute_result",
          "data": {
            "text/plain": [
              "tensor(9)"
            ]
          },
          "metadata": {},
          "execution_count": 123
        }
      ]
    },
    {
      "cell_type": "markdown",
      "source": [
        "### Reshaping,stacking, squeezing and unsqueesing tensors\n",
        "\n",
        "* Reshaping - reshapes an input tensor to a defined shape\n",
        "* View: Return a view of an input tensor of certain shape but keep the same memory as the original tensor\n",
        "* stacking: Combine multiple tensors on top of each other(vstack) or side by side(hstack)\n",
        "* Squeeze: remove all '1' dimensions from a tensor\n",
        "* Unsqueeze: add a '1' dimension to a target tensor\n",
        "* permute: Return a view of the input with dinmensions permuted(swapped) in certain way"
      ],
      "metadata": {
        "id": "IsTc7kOvKH4f"
      }
    },
    {
      "cell_type": "code",
      "source": [
        "import torch\n",
        "\n",
        "x= torch.arange(1.,10)\n",
        "x,x.shape"
      ],
      "metadata": {
        "id": "yAff8QbeJ4w-",
        "colab": {
          "base_uri": "https://localhost:8080/"
        },
        "outputId": "1a84c576-0610-4459-e78b-8e42a705f488"
      },
      "execution_count": null,
      "outputs": [
        {
          "output_type": "execute_result",
          "data": {
            "text/plain": [
              "(tensor([1., 2., 3., 4., 5., 6., 7., 8., 9.]), torch.Size([9]))"
            ]
          },
          "metadata": {},
          "execution_count": 124
        }
      ]
    },
    {
      "cell_type": "code",
      "source": [
        "# add a extra dimension\n",
        "x_reshape = x.reshape(1,9)\n",
        "x_reshape,x_reshape.shape"
      ],
      "metadata": {
        "id": "ENeoMgHeJ4zU",
        "colab": {
          "base_uri": "https://localhost:8080/"
        },
        "outputId": "dc7516a7-eb6a-4ba2-94de-10f9b42d25a2"
      },
      "execution_count": null,
      "outputs": [
        {
          "output_type": "execute_result",
          "data": {
            "text/plain": [
              "(tensor([[1., 2., 3., 4., 5., 6., 7., 8., 9.]]), torch.Size([1, 9]))"
            ]
          },
          "metadata": {},
          "execution_count": 125
        }
      ]
    },
    {
      "cell_type": "code",
      "source": [
        " # change the view\n",
        "z= x.view(1,9)\n",
        "z,z.shape"
      ],
      "metadata": {
        "id": "TttI6drCJ41s",
        "colab": {
          "base_uri": "https://localhost:8080/"
        },
        "outputId": "b7989517-52c5-4bb9-a8c9-f273f399dcc3"
      },
      "execution_count": null,
      "outputs": [
        {
          "output_type": "execute_result",
          "data": {
            "text/plain": [
              "(tensor([[1., 2., 3., 4., 5., 6., 7., 8., 9.]]), torch.Size([1, 9]))"
            ]
          },
          "metadata": {},
          "execution_count": 126
        }
      ]
    },
    {
      "cell_type": "code",
      "source": [
        "z[:,0] = 3\n",
        "z,x"
      ],
      "metadata": {
        "colab": {
          "base_uri": "https://localhost:8080/"
        },
        "id": "WkOGclmjtTvq",
        "outputId": "d3a00643-b58b-45d4-8498-4af17f34afe3"
      },
      "execution_count": null,
      "outputs": [
        {
          "output_type": "execute_result",
          "data": {
            "text/plain": [
              "(tensor([[3., 2., 3., 4., 5., 6., 7., 8., 9.]]),\n",
              " tensor([3., 2., 3., 4., 5., 6., 7., 8., 9.]))"
            ]
          },
          "metadata": {},
          "execution_count": 127
        }
      ]
    },
    {
      "cell_type": "code",
      "source": [
        "x_stack = torch.stack([x,x,x,x], dim=0)\n",
        "x_stack"
      ],
      "metadata": {
        "colab": {
          "base_uri": "https://localhost:8080/"
        },
        "id": "akLdidzkvleM",
        "outputId": "2e3c0f80-c665-47d8-f892-ac1c9f3c3aa1"
      },
      "execution_count": null,
      "outputs": [
        {
          "output_type": "execute_result",
          "data": {
            "text/plain": [
              "tensor([[3., 2., 3., 4., 5., 6., 7., 8., 9.],\n",
              "        [3., 2., 3., 4., 5., 6., 7., 8., 9.],\n",
              "        [3., 2., 3., 4., 5., 6., 7., 8., 9.],\n",
              "        [3., 2., 3., 4., 5., 6., 7., 8., 9.]])"
            ]
          },
          "metadata": {},
          "execution_count": 128
        }
      ]
    },
    {
      "cell_type": "code",
      "source": [
        "x_reshape"
      ],
      "metadata": {
        "colab": {
          "base_uri": "https://localhost:8080/"
        },
        "id": "8j2_0wPOwEz5",
        "outputId": "65d06bd2-fa2a-4dea-da40-770f133c8db8"
      },
      "execution_count": null,
      "outputs": [
        {
          "output_type": "execute_result",
          "data": {
            "text/plain": [
              "tensor([[3., 2., 3., 4., 5., 6., 7., 8., 9.]])"
            ]
          },
          "metadata": {},
          "execution_count": 129
        }
      ]
    },
    {
      "cell_type": "code",
      "source": [
        "x_reshape.shape"
      ],
      "metadata": {
        "id": "l6rXOtq4gUmI",
        "colab": {
          "base_uri": "https://localhost:8080/"
        },
        "outputId": "a0601c4f-fde2-42d6-92fb-3ea9e6571e7a"
      },
      "execution_count": null,
      "outputs": [
        {
          "output_type": "execute_result",
          "data": {
            "text/plain": [
              "torch.Size([1, 9])"
            ]
          },
          "metadata": {},
          "execution_count": 130
        }
      ]
    },
    {
      "cell_type": "code",
      "source": [
        "x_reshape.squeeze()"
      ],
      "metadata": {
        "colab": {
          "base_uri": "https://localhost:8080/"
        },
        "id": "YQllfnIse2L4",
        "outputId": "f49f1248-08a0-41cc-9129-3e5776daea56"
      },
      "execution_count": null,
      "outputs": [
        {
          "output_type": "execute_result",
          "data": {
            "text/plain": [
              "tensor([3., 2., 3., 4., 5., 6., 7., 8., 9.])"
            ]
          },
          "metadata": {},
          "execution_count": 131
        }
      ]
    },
    {
      "cell_type": "code",
      "source": [
        "x_reshape.squeeze().shape"
      ],
      "metadata": {
        "colab": {
          "base_uri": "https://localhost:8080/"
        },
        "id": "Xq_lTVfcxRq8",
        "outputId": "a450c9f6-d0b1-423b-f558-690da0e666d2"
      },
      "execution_count": null,
      "outputs": [
        {
          "output_type": "execute_result",
          "data": {
            "text/plain": [
              "torch.Size([9])"
            ]
          },
          "metadata": {},
          "execution_count": 132
        }
      ]
    },
    {
      "cell_type": "code",
      "source": [
        "#torch.permute - rearranges the target the tensor in a specified order\n",
        "x_original = torch.rand(size=(22,3,3))\n",
        "x_permuted = x_original.permute(2,0,1)\n",
        "print(f\"prevoius shape:{x_original.shape}\")\n",
        "print(f\"new shape:{x_permuted.shape}\")"
      ],
      "metadata": {
        "colab": {
          "base_uri": "https://localhost:8080/"
        },
        "id": "ZcxGPToyxVJg",
        "outputId": "bea82df3-4655-401c-a789-299f46ab1497"
      },
      "execution_count": null,
      "outputs": [
        {
          "output_type": "stream",
          "name": "stdout",
          "text": [
            "prevoius shape:torch.Size([22, 3, 3])\n",
            "new shape:torch.Size([3, 22, 3])\n"
          ]
        }
      ]
    },
    {
      "cell_type": "markdown",
      "source": [
        "##indexing (Selecting data from tensors)\n",
        "\n",
        "indexing with pytorch is similar to  indexing in Numpy"
      ],
      "metadata": {
        "id": "W5mW9dwaHxXV"
      }
    },
    {
      "cell_type": "code",
      "source": [
        "import torch"
      ],
      "metadata": {
        "id": "qmXj8tN-IgGV"
      },
      "execution_count": null,
      "outputs": []
    },
    {
      "cell_type": "code",
      "source": [
        "#create a tensor\n",
        "\n",
        "import torch\n",
        "x = torch.arange(1,10).reshape(1,3,3)\n",
        "x,x.shape"
      ],
      "metadata": {
        "colab": {
          "base_uri": "https://localhost:8080/"
        },
        "id": "NNeiPOJwGIy3",
        "outputId": "0112b422-06a5-4ece-e3fb-b22835cb90c5"
      },
      "execution_count": null,
      "outputs": [
        {
          "output_type": "execute_result",
          "data": {
            "text/plain": [
              "(tensor([[[1, 2, 3],\n",
              "          [4, 5, 6],\n",
              "          [7, 8, 9]]]),\n",
              " torch.Size([1, 3, 3]))"
            ]
          },
          "metadata": {},
          "execution_count": 135
        }
      ]
    },
    {
      "cell_type": "code",
      "source": [
        "# lets index on our new tensor\n",
        "x[0]"
      ],
      "metadata": {
        "colab": {
          "base_uri": "https://localhost:8080/"
        },
        "id": "2LS8MSpSIESW",
        "outputId": "1c5f100f-7d21-4344-eaf7-6b071afa343b"
      },
      "execution_count": null,
      "outputs": [
        {
          "output_type": "execute_result",
          "data": {
            "text/plain": [
              "tensor([[1, 2, 3],\n",
              "        [4, 5, 6],\n",
              "        [7, 8, 9]])"
            ]
          },
          "metadata": {},
          "execution_count": 136
        }
      ]
    },
    {
      "cell_type": "code",
      "source": [
        "x[0][0]"
      ],
      "metadata": {
        "colab": {
          "base_uri": "https://localhost:8080/"
        },
        "id": "i8whuAzwIEPv",
        "outputId": "1b8008ff-af77-4db0-b8ba-9c1854d4f5ea"
      },
      "execution_count": null,
      "outputs": [
        {
          "output_type": "execute_result",
          "data": {
            "text/plain": [
              "tensor([1, 2, 3])"
            ]
          },
          "metadata": {},
          "execution_count": 137
        }
      ]
    },
    {
      "cell_type": "code",
      "source": [
        "#let's index on the most inner bracket (last dimension)\n",
        "x[0][1][1]"
      ],
      "metadata": {
        "colab": {
          "base_uri": "https://localhost:8080/"
        },
        "id": "6r3tX7ILIELJ",
        "outputId": "31752734-eb16-4f19-9baf-9415f091533c"
      },
      "execution_count": null,
      "outputs": [
        {
          "output_type": "execute_result",
          "data": {
            "text/plain": [
              "tensor(5)"
            ]
          },
          "metadata": {},
          "execution_count": 138
        }
      ]
    },
    {
      "cell_type": "code",
      "source": [
        "# you can also use \":\" to select \"all\" of a target deminsion\n",
        "x[:,:,1]"
      ],
      "metadata": {
        "colab": {
          "base_uri": "https://localhost:8080/"
        },
        "id": "HDCE9rUpIEGI",
        "outputId": "7921fae3-bdf8-4161-baf7-ae7bc020032f"
      },
      "execution_count": null,
      "outputs": [
        {
          "output_type": "execute_result",
          "data": {
            "text/plain": [
              "tensor([[2, 5, 8]])"
            ]
          },
          "metadata": {},
          "execution_count": 139
        }
      ]
    },
    {
      "cell_type": "code",
      "source": [
        "x[:,1,1]"
      ],
      "metadata": {
        "colab": {
          "base_uri": "https://localhost:8080/"
        },
        "id": "-1i0BA64ID_s",
        "outputId": "f0ac0654-f016-49a8-e395-0bbde7af2c2e"
      },
      "execution_count": null,
      "outputs": [
        {
          "output_type": "execute_result",
          "data": {
            "text/plain": [
              "tensor([5])"
            ]
          },
          "metadata": {},
          "execution_count": 140
        }
      ]
    },
    {
      "cell_type": "code",
      "source": [
        "x[0,0,:]"
      ],
      "metadata": {
        "colab": {
          "base_uri": "https://localhost:8080/"
        },
        "id": "Wv202F35ID8n",
        "outputId": "94413ba8-4e9f-4af3-afcb-ce6d2a3a30ab"
      },
      "execution_count": null,
      "outputs": [
        {
          "output_type": "execute_result",
          "data": {
            "text/plain": [
              "tensor([1, 2, 3])"
            ]
          },
          "metadata": {},
          "execution_count": 141
        }
      ]
    },
    {
      "cell_type": "code",
      "source": [
        "x"
      ],
      "metadata": {
        "colab": {
          "base_uri": "https://localhost:8080/"
        },
        "id": "dXSX7LGjRtIw",
        "outputId": "3c103978-896c-4c77-8c49-2c1b4c85957d"
      },
      "execution_count": null,
      "outputs": [
        {
          "output_type": "execute_result",
          "data": {
            "text/plain": [
              "tensor([[[1, 2, 3],\n",
              "         [4, 5, 6],\n",
              "         [7, 8, 9]]])"
            ]
          },
          "metadata": {},
          "execution_count": 142
        }
      ]
    },
    {
      "cell_type": "markdown",
      "source": [
        "#pytorch tensors and numpy\n",
        "Numpy is a poplular scientific pytjon computing library\n"
      ],
      "metadata": {
        "id": "bhLUsonTX_VJ"
      }
    },
    {
      "cell_type": "code",
      "source": [
        "#numpy array to tensor\n",
        "import torch\n",
        "import numpy as np\n",
        "\n",
        "array = np.arange(1.0,8.0)\n",
        "tensor = torch.from_numpy(array) #warning : when converting from numpy -> pytorch reflects numpy's datatype of float64 unless specified otherwise\n",
        "array,tensor"
      ],
      "metadata": {
        "colab": {
          "base_uri": "https://localhost:8080/"
        },
        "id": "omDtK9-iRtGF",
        "outputId": "48f9eeac-8fc3-4679-946e-5134861b71ef"
      },
      "execution_count": null,
      "outputs": [
        {
          "output_type": "execute_result",
          "data": {
            "text/plain": [
              "(array([1., 2., 3., 4., 5., 6., 7.]),\n",
              " tensor([1., 2., 3., 4., 5., 6., 7.], dtype=torch.float64))"
            ]
          },
          "metadata": {},
          "execution_count": 143
        }
      ]
    },
    {
      "cell_type": "code",
      "source": [
        "array.dtype"
      ],
      "metadata": {
        "colab": {
          "base_uri": "https://localhost:8080/"
        },
        "id": "dqoxIOOeRtDS",
        "outputId": "1b1ddee8-fcd5-4532-a655-3b937847a799"
      },
      "execution_count": null,
      "outputs": [
        {
          "output_type": "execute_result",
          "data": {
            "text/plain": [
              "dtype('float64')"
            ]
          },
          "metadata": {},
          "execution_count": 144
        }
      ]
    },
    {
      "cell_type": "code",
      "source": [
        "torch.arange(1.0,9.0).dtype"
      ],
      "metadata": {
        "colab": {
          "base_uri": "https://localhost:8080/"
        },
        "id": "am6PzwFnRtA5",
        "outputId": "cb5d09ca-4776-4655-9d38-ad72f5ba3fa4"
      },
      "execution_count": null,
      "outputs": [
        {
          "output_type": "execute_result",
          "data": {
            "text/plain": [
              "torch.float32"
            ]
          },
          "metadata": {},
          "execution_count": 145
        }
      ]
    },
    {
      "cell_type": "code",
      "source": [
        "# change the value of array, what will do this 'tensor?'\n",
        "array = array+1\n",
        "array , tensor"
      ],
      "metadata": {
        "colab": {
          "base_uri": "https://localhost:8080/"
        },
        "id": "DreUBdAnRs-I",
        "outputId": "9fb681cd-481d-4f39-c1ad-25f0bca27be9"
      },
      "execution_count": null,
      "outputs": [
        {
          "output_type": "execute_result",
          "data": {
            "text/plain": [
              "(array([2., 3., 4., 5., 6., 7., 8.]),\n",
              " tensor([1., 2., 3., 4., 5., 6., 7.], dtype=torch.float64))"
            ]
          },
          "metadata": {},
          "execution_count": 146
        }
      ]
    },
    {
      "cell_type": "code",
      "source": [
        "# tensors to numpy array\n",
        "tensor = torch.ones(9)\n",
        "numpy_tensor = tensor.numpy()\n",
        "tensor, numpy_tensor"
      ],
      "metadata": {
        "colab": {
          "base_uri": "https://localhost:8080/"
        },
        "id": "wkXzzXRZRs7f",
        "outputId": "4a5469d8-b3d2-4e3e-9dd2-bb1124971a31"
      },
      "execution_count": null,
      "outputs": [
        {
          "output_type": "execute_result",
          "data": {
            "text/plain": [
              "(tensor([1., 1., 1., 1., 1., 1., 1., 1., 1.]),\n",
              " array([1., 1., 1., 1., 1., 1., 1., 1., 1.], dtype=float32))"
            ]
          },
          "metadata": {},
          "execution_count": 147
        }
      ]
    },
    {
      "cell_type": "code",
      "source": [
        "numpy_tensor.dtype"
      ],
      "metadata": {
        "colab": {
          "base_uri": "https://localhost:8080/"
        },
        "id": "XFiAq0LNRs4f",
        "outputId": "994917ea-a134-4201-cf5d-2da65115f605"
      },
      "execution_count": null,
      "outputs": [
        {
          "output_type": "execute_result",
          "data": {
            "text/plain": [
              "dtype('float32')"
            ]
          },
          "metadata": {},
          "execution_count": 148
        }
      ]
    },
    {
      "cell_type": "code",
      "source": [
        "# change the tensor , what happens to 'numpy_tensors'\n",
        "tensor = tensor+1\n",
        "tensor,numpy_tensor"
      ],
      "metadata": {
        "colab": {
          "base_uri": "https://localhost:8080/"
        },
        "id": "RSmM9dFeRs1c",
        "outputId": "28dcac21-9435-42bd-9962-9ec71cd1a3aa"
      },
      "execution_count": null,
      "outputs": [
        {
          "output_type": "execute_result",
          "data": {
            "text/plain": [
              "(tensor([2., 2., 2., 2., 2., 2., 2., 2., 2.]),\n",
              " array([1., 1., 1., 1., 1., 1., 1., 1., 1.], dtype=float32))"
            ]
          },
          "metadata": {},
          "execution_count": 149
        }
      ]
    },
    {
      "cell_type": "markdown",
      "source": [
        "#Reproducibility (trying to take random out of random)\n",
        "start with random numbers -> tensor operations -> update random numbers to try and make them better representions of the data -. again ->again - > again\n",
        "\n",
        "to reduce the randomnes in neural networks and pytorch comes the concept of a \"random seed\"\n",
        "\n",
        "Essentionlly what the random seed does is 'flavour ' the randomness"
      ],
      "metadata": {
        "id": "LkFeAojHoVD8"
      }
    },
    {
      "cell_type": "code",
      "source": [
        "torch.rand(3,4)"
      ],
      "metadata": {
        "colab": {
          "base_uri": "https://localhost:8080/"
        },
        "id": "bwXsUYKzoAKe",
        "outputId": "4447855d-047e-4c6b-fd20-97c0975f79d2"
      },
      "execution_count": null,
      "outputs": [
        {
          "output_type": "execute_result",
          "data": {
            "text/plain": [
              "tensor([[0.5971, 0.9291, 0.6079, 0.9786],\n",
              "        [0.7864, 0.0822, 0.7376, 0.6457],\n",
              "        [0.7741, 0.8237, 0.4842, 0.9572]])"
            ]
          },
          "metadata": {},
          "execution_count": 150
        }
      ]
    },
    {
      "cell_type": "code",
      "source": [
        "import torch\n",
        "\n",
        "random_tensor_A = torch.rand(3,4)\n",
        "random_tensor_B = torch.rand(3,4)\n",
        "\n",
        "print(random_tensor_A)\n",
        "print(random_tensor_B)\n",
        "print(random_tensor_A == random_tensor_B)"
      ],
      "metadata": {
        "colab": {
          "base_uri": "https://localhost:8080/"
        },
        "id": "IVK_cjRQoAHy",
        "outputId": "7ab7f258-19a0-4c90-822e-8b223163c9de"
      },
      "execution_count": null,
      "outputs": [
        {
          "output_type": "stream",
          "name": "stdout",
          "text": [
            "tensor([[0.5164, 0.4106, 0.0398, 0.0513],\n",
            "        [0.2305, 0.4774, 0.9198, 0.8033],\n",
            "        [0.4709, 0.2902, 0.1786, 0.8470]])\n",
            "tensor([[0.3670, 0.9114, 0.6396, 0.1325],\n",
            "        [0.0459, 0.7077, 0.5386, 0.7557],\n",
            "        [0.2183, 0.7268, 0.8363, 0.4190]])\n",
            "tensor([[False, False, False, False],\n",
            "        [False, False, False, False],\n",
            "        [False, False, False, False]])\n"
          ]
        }
      ]
    },
    {
      "cell_type": "code",
      "source": [
        "# Lets make some random but reprdocible tensors\n",
        "\n",
        "import torch\n",
        "\n",
        "# Set the random seed\n",
        "RANDOM_SEED = 23\n",
        "torch.manual_seed(RANDOM_SEED)\n",
        "random_tensor_C = torch.rand(3,4)\n",
        "\n",
        "torch.manual_seed(RANDOM_SEED)\n",
        "random_tensor_D = torch.rand(3,4)\n",
        "\n",
        "print(random_tensor_C)\n",
        "print(random_tensor_D)\n",
        "print(random_tensor_C == random_tensor_D)"
      ],
      "metadata": {
        "colab": {
          "base_uri": "https://localhost:8080/"
        },
        "id": "Eatt1JQcoAE4",
        "outputId": "c577fa1e-1721-4e2d-dbaf-c405b85fa6ca"
      },
      "execution_count": null,
      "outputs": [
        {
          "output_type": "stream",
          "name": "stdout",
          "text": [
            "tensor([[0.4283, 0.2889, 0.4224, 0.3571],\n",
            "        [0.9577, 0.1100, 0.2933, 0.9205],\n",
            "        [0.5876, 0.1299, 0.6729, 0.1028]])\n",
            "tensor([[0.4283, 0.2889, 0.4224, 0.3571],\n",
            "        [0.9577, 0.1100, 0.2933, 0.9205],\n",
            "        [0.5876, 0.1299, 0.6729, 0.1028]])\n",
            "tensor([[True, True, True, True],\n",
            "        [True, True, True, True],\n",
            "        [True, True, True, True]])\n"
          ]
        }
      ]
    },
    {
      "cell_type": "markdown",
      "source": [
        "# Running tensors and pytorch objects on the GPUs"
      ],
      "metadata": {
        "id": "cFmk0oF45bI6"
      }
    },
    {
      "cell_type": "code",
      "source": [
        "!nvidia-smi"
      ],
      "metadata": {
        "id": "52fDBw8bn_-e",
        "colab": {
          "base_uri": "https://localhost:8080/"
        },
        "outputId": "63755659-090e-4d6a-da5c-a92ddb673ae3"
      },
      "execution_count": null,
      "outputs": [
        {
          "output_type": "stream",
          "name": "stdout",
          "text": [
            "/bin/bash: line 1: nvidia-smi: command not found\n"
          ]
        }
      ]
    },
    {
      "cell_type": "code",
      "source": [
        "### check for GPU acceess with pytorch\n",
        "import torch\n",
        "torch.cuda.is_available()"
      ],
      "metadata": {
        "id": "mH6vf1PRn_7S",
        "colab": {
          "base_uri": "https://localhost:8080/"
        },
        "outputId": "7d3b70ae-13e3-494c-b27f-1ca1e66b28e4"
      },
      "execution_count": null,
      "outputs": [
        {
          "output_type": "execute_result",
          "data": {
            "text/plain": [
              "False"
            ]
          },
          "metadata": {},
          "execution_count": 154
        }
      ]
    },
    {
      "cell_type": "code",
      "source": [
        "#setup device agnostic code\n",
        "device = \"cuda\" if torch.cuda.is_available() else \"cpu\"\n",
        "device"
      ],
      "metadata": {
        "colab": {
          "base_uri": "https://localhost:8080/",
          "height": 35
        },
        "id": "8VZsRiUL81aS",
        "outputId": "b1cd2be0-9fba-4a37-9fbe-45f9159f0bd9"
      },
      "execution_count": null,
      "outputs": [
        {
          "output_type": "execute_result",
          "data": {
            "text/plain": [
              "'cpu'"
            ],
            "application/vnd.google.colaboratory.intrinsic+json": {
              "type": "string"
            }
          },
          "metadata": {},
          "execution_count": 155
        }
      ]
    },
    {
      "cell_type": "code",
      "source": [
        "torch.cuda.device_count()"
      ],
      "metadata": {
        "colab": {
          "base_uri": "https://localhost:8080/"
        },
        "id": "QigTnxAS81WD",
        "outputId": "2e995f90-1847-4572-9862-057c719d7e79"
      },
      "execution_count": null,
      "outputs": [
        {
          "output_type": "execute_result",
          "data": {
            "text/plain": [
              "0"
            ]
          },
          "metadata": {},
          "execution_count": 156
        }
      ]
    },
    {
      "cell_type": "markdown",
      "source": [
        " # putting tensors on the gpu's\n"
      ],
      "metadata": {
        "id": "qvHjq2N-C7Kt"
      }
    },
    {
      "cell_type": "code",
      "source": [
        " #3. putting tensors on the gpu'smples.\n",
        " tensor = torch.tensor([1,2,3])\n",
        " print(tensor, tensor.device)"
      ],
      "metadata": {
        "colab": {
          "base_uri": "https://localhost:8080/"
        },
        "id": "D8JRnJ0l81Tl",
        "outputId": "ec97f920-8306-419e-d0b0-efaa4c178e53"
      },
      "execution_count": null,
      "outputs": [
        {
          "output_type": "stream",
          "name": "stdout",
          "text": [
            "tensor([1, 2, 3]) cpu\n"
          ]
        }
      ]
    },
    {
      "cell_type": "code",
      "source": [
        "# Move tensor to GPU(if available)\n",
        "tensor_on_gpu = tensor.to(device)\n",
        "tensor_on_gpu"
      ],
      "metadata": {
        "colab": {
          "base_uri": "https://localhost:8080/"
        },
        "id": "Kxa27Kdi81RV",
        "outputId": "3c4d6179-a5e3-48e0-fc18-b1e966b362ff"
      },
      "execution_count": null,
      "outputs": [
        {
          "output_type": "execute_result",
          "data": {
            "text/plain": [
              "tensor([1, 2, 3])"
            ]
          },
          "metadata": {},
          "execution_count": 158
        }
      ]
    },
    {
      "cell_type": "markdown",
      "source": [
        "# 4. Moving tensors back to the CPU"
      ],
      "metadata": {
        "id": "U1Mk_M3XERS1"
      }
    },
    {
      "cell_type": "code",
      "source": [
        "#if tensor is on GPU, can't transform it to Numpy\n",
        "tensor_on_gpu.numpy()"
      ],
      "metadata": {
        "colab": {
          "base_uri": "https://localhost:8080/"
        },
        "id": "blD9exc681Oh",
        "outputId": "dced6c4e-440f-4d90-e93c-3c9e7dfed5cd"
      },
      "execution_count": null,
      "outputs": [
        {
          "output_type": "execute_result",
          "data": {
            "text/plain": [
              "array([1, 2, 3])"
            ]
          },
          "metadata": {},
          "execution_count": 159
        }
      ]
    },
    {
      "cell_type": "code",
      "source": [
        "# To fix the gpu tensor with numpy issue , we can firstset it to the CPU\n",
        "tensor_back_on_cpu = tensor_on_gpu.cpu().numpy()\n",
        "tensor_back_on_cpu"
      ],
      "metadata": {
        "colab": {
          "base_uri": "https://localhost:8080/"
        },
        "id": "M7GG9KVK81MW",
        "outputId": "970049a1-2139-46c1-ec2e-9396807893e2"
      },
      "execution_count": null,
      "outputs": [
        {
          "output_type": "execute_result",
          "data": {
            "text/plain": [
              "array([1, 2, 3])"
            ]
          },
          "metadata": {},
          "execution_count": 160
        }
      ]
    },
    {
      "cell_type": "code",
      "source": [
        "tensor_on_gpu"
      ],
      "metadata": {
        "colab": {
          "base_uri": "https://localhost:8080/"
        },
        "id": "Oe-sMoqH81J1",
        "outputId": "2b4b7e4b-2974-4923-d432-4e2067cfe67a"
      },
      "execution_count": null,
      "outputs": [
        {
          "output_type": "execute_result",
          "data": {
            "text/plain": [
              "tensor([1, 2, 3])"
            ]
          },
          "metadata": {},
          "execution_count": 161
        }
      ]
    },
    {
      "cell_type": "code",
      "source": [],
      "metadata": {
        "id": "8UiGgOdl81Ch"
      },
      "execution_count": null,
      "outputs": []
    }
  ],
  "metadata": {
    "colab": {
      "provenance": [],
      "authorship_tag": "ABX9TyPgJMLE1u35vbLQMCyxoJpz",
      "include_colab_link": true
    },
    "kernelspec": {
      "display_name": "Python 3",
      "name": "python3"
    },
    "language_info": {
      "name": "python"
    }
  },
  "nbformat": 4,
  "nbformat_minor": 0
}